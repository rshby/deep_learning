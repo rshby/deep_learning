{
 "cells": [
  {
   "cell_type": "markdown",
   "metadata": {},
   "source": [
    "## Arsitektur NN"
   ]
  },
  {
   "cell_type": "code",
   "execution_count": 2,
   "metadata": {},
   "outputs": [
    {
     "data": {
      "text/plain": [
       "device(type='cuda', index=0)"
      ]
     },
     "execution_count": 2,
     "metadata": {},
     "output_type": "execute_result"
    }
   ],
   "source": [
    "from jcopdl.layers import linear_block, conv_block\n",
    "import torch\n",
    "from torch import nn, optim\n",
    "from jcopdl.callback import Callback, set_config\n",
    "\n",
    "device = torch.device(\"cuda:0\" if torch.cuda.is_available() else \"cpu\")\n",
    "device"
   ]
  },
  {
   "cell_type": "code",
   "execution_count": null,
   "metadata": {},
   "outputs": [],
   "source": [
    "class CifarCNN(nn.Module):\n",
    "    def __init__(self):\n",
    "        super().__init__()\n",
    "        self.conv = nn.Sequential(\n",
    "            conv_block(3, 16), # 3x32x32 -> 16x16x16\n",
    "            conv_block(16, 32), # 16x16x16 -> 32x8x8 \n",
    "            conv_block(32, 64), #32x8x8 -> 64x4x4\n",
    "            nn.Flatten()\n",
    "        )\n",
    "        \n",
    "        self.fc = nn.Sequential(\n",
    "            linear_block(1024, 512, dropout=0.1),\n",
    "            linear_block(512, 64, dropout=0.1),\n",
    "            linear_block(64, 10, activation=\"lsoftmax\")\n",
    "        )\n",
    "        \n",
    "    def forward(self, x):\n",
    "        return self.fc(self.conv(x))"
   ]
  },
  {
   "cell_type": "code",
   "execution_count": null,
   "metadata": {},
   "outputs": [],
   "source": [
    "config = set_config({\n",
    "    \"bs\" : 123,\n",
    "    \"crop_size\" : 32,\n",
    "    \"input_layer\" : 1024,\n",
    "    \"hidden1\" : 512,\n",
    "    \"hidden2\" : 64,\n",
    "    \"output_size\" : len(label2cat),\n",
    "    \"drout\" : 0.1\n",
    "})"
   ]
  },
  {
   "cell_type": "code",
   "execution_count": null,
   "metadata": {},
   "outputs": [],
   "source": [
    "from tqdm.auto import tqdm\n",
    "\n",
    "def loop_fn(mode, dataset, dataloader, model, criterion, optimizer, device):\n",
    "    if mode == \"train\":\n",
    "        model.train()\n",
    "    elif mode == \"test\":\n",
    "        model.eval()\n",
    "    cost = correct = 0\n",
    "    for feature, target in tqdm(dataloader, desc=mode.title()):\n",
    "        feature, target = feature.to(device), target.to(device)\n",
    "        output = model(feature)\n",
    "        loss = criterion(output, target)\n",
    "        \n",
    "        if mode == \"train\":\n",
    "            loss.backward()\n",
    "            optimizer.step()\n",
    "            optimizer.zero_grad()\n",
    "        \n",
    "        cost += loss.item() * feature.shape[0]\n",
    "        correct += (output.argmax(1) == target).sum().item()\n",
    "    cost = cost / len(dataset)\n",
    "    acc = correct / len(dataset)\n",
    "    return cost, acc"
   ]
  },
  {
   "cell_type": "code",
   "execution_count": null,
   "metadata": {},
   "outputs": [],
   "source": [
    "while True:\n",
    "    train_cost, train_score = loop_fn(\"train\", train_set, trainloader, model, criterion, optimizer, device)\n",
    "    with torch.no_grad():\n",
    "        test_cost, test_score = loop_fn(\"test\", test_set, testloader, model, criterion, optimizer, device)\n",
    "    \n",
    "    # Logging\n",
    "    callback.log(train_cost, test_cost, train_score, test_score)\n",
    "\n",
    "    # Checkpoint\n",
    "    callback.save_checkpoint()\n",
    "        \n",
    "    # Runtime Plotting\n",
    "    callback.cost_runtime_plotting()\n",
    "    callback.score_runtime_plotting()\n",
    "    \n",
    "    # Early Stopping\n",
    "    if callback.early_stopping(model, monitor=\"test_score\"):\n",
    "        callback.plot_cost()\n",
    "        callback.plot_score()\n",
    "        break"
   ]
  },
  {
   "cell_type": "markdown",
   "metadata": {},
   "source": [
    "## Predict"
   ]
  },
  {
   "cell_type": "code",
   "execution_count": 3,
   "metadata": {},
   "outputs": [],
   "source": [
    "import matplotlib.pyplot as plt\n",
    "import seaborn as sns"
   ]
  },
  {
   "cell_type": "code",
   "execution_count": 4,
   "metadata": {},
   "outputs": [
    {
     "ename": "NameError",
     "evalue": "name 'testloader' is not defined",
     "output_type": "error",
     "traceback": [
      "\u001b[1;31m---------------------------------------------------------------------------\u001b[0m",
      "\u001b[1;31mNameError\u001b[0m                                 Traceback (most recent call last)",
      "\u001b[1;32m<ipython-input-4-5ffb3fab932c>\u001b[0m in \u001b[0;36m<module>\u001b[1;34m\u001b[0m\n\u001b[1;32m----> 1\u001b[1;33m \u001b[0mfeature\u001b[0m\u001b[1;33m,\u001b[0m \u001b[0mtarget\u001b[0m \u001b[1;33m=\u001b[0m \u001b[0mnext\u001b[0m\u001b[1;33m(\u001b[0m\u001b[0miter\u001b[0m\u001b[1;33m(\u001b[0m\u001b[0mtestloader\u001b[0m\u001b[1;33m)\u001b[0m\u001b[1;33m)\u001b[0m\u001b[1;33m\u001b[0m\u001b[1;33m\u001b[0m\u001b[0m\n\u001b[0m\u001b[0;32m      2\u001b[0m \u001b[0mfeature\u001b[0m\u001b[1;33m,\u001b[0m \u001b[0mtarget\u001b[0m \u001b[1;33m=\u001b[0m \u001b[0mfeature\u001b[0m\u001b[1;33m.\u001b[0m\u001b[0mto\u001b[0m\u001b[1;33m(\u001b[0m\u001b[0mdevice\u001b[0m\u001b[1;33m)\u001b[0m\u001b[1;33m,\u001b[0m \u001b[0mtarget\u001b[0m\u001b[1;33m.\u001b[0m\u001b[0mto\u001b[0m\u001b[1;33m(\u001b[0m\u001b[0mdevice\u001b[0m\u001b[1;33m)\u001b[0m\u001b[1;33m\u001b[0m\u001b[1;33m\u001b[0m\u001b[0m\n",
      "\u001b[1;31mNameError\u001b[0m: name 'testloader' is not defined"
     ]
    }
   ],
   "source": [
    "feature, target = next(iter(testloader))\n",
    "feature, target = feature.to(device), target.to(device)"
   ]
  },
  {
   "cell_type": "code",
   "execution_count": null,
   "metadata": {},
   "outputs": [],
   "source": [
    "with torch.no_grad():\n",
    "    model.eval()\n",
    "    output = model(feature)\n",
    "    preds = output.argmax(1)\n",
    "\n",
    "preds"
   ]
  },
  {
   "cell_type": "code",
   "execution_count": null,
   "metadata": {},
   "outputs": [],
   "source": [
    "fig, axes = plt.subplots(6, 6, figsize=(24, 24))\n",
    "for image, label, pred, ax in zip(feature, target, preds, axes.flatten()):\n",
    "    ax.imshow(image.permute(1, 2, 0).cpu())\n",
    "    font = {\"color\":\"r\"} if label != pred else {\"color\":\"g\"}\n",
    "    label, pred = label2cat[label.item()], label2cat[pred.item()]\n",
    "    ax.set_title(f\"Actual: {label} | Prediction: {pred}\", fontdict=font);\n",
    "    ax.axis('off');"
   ]
  }
 ],
 "metadata": {
  "kernelspec": {
   "display_name": "Python 3",
   "language": "python",
   "name": "python3"
  },
  "language_info": {
   "codemirror_mode": {
    "name": "ipython",
    "version": 3
   },
   "file_extension": ".py",
   "mimetype": "text/x-python",
   "name": "python",
   "nbconvert_exporter": "python",
   "pygments_lexer": "ipython3",
   "version": "3.7.6"
  }
 },
 "nbformat": 4,
 "nbformat_minor": 4
}
