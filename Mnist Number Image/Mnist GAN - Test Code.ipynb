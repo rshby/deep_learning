{
 "cells": [
  {
   "cell_type": "code",
   "execution_count": null,
   "metadata": {},
   "outputs": [],
   "source": [
    "#!pip install jcopdl\n",
    "#!pip install gdown "
   ]
  },
  {
   "cell_type": "code",
   "execution_count": null,
   "metadata": {},
   "outputs": [],
   "source": [
    "# Download Datasets\n",
    "!gdown https://drive.google.com/uc?id=12DT5Px7FQV7gEcyGWvKb5aZQW2ZptSP\n",
    "!unzip /content/mnist.zip"
   ]
  },
  {
   "cell_type": "code",
   "execution_count": 1,
   "metadata": {},
   "outputs": [
    {
     "data": {
      "text/plain": [
       "device(type='cuda', index=0)"
      ]
     },
     "execution_count": 1,
     "metadata": {},
     "output_type": "execute_result"
    }
   ],
   "source": [
    "import torch\n",
    "from torch import nn, optim\n",
    "from jcopdl.callback import Callback, set_config\n",
    "\n",
    "device = torch.device(\"cuda:0\" if torch.cuda.is_available() else \"cpu\")\n",
    "device"
   ]
  },
  {
   "cell_type": "markdown",
   "metadata": {},
   "source": [
    "## Datasets dan Dataloader (Hanya Trainset)"
   ]
  },
  {
   "cell_type": "code",
   "execution_count": 4,
   "metadata": {},
   "outputs": [],
   "source": [
    "from torchvision import datasets, transforms\n",
    "from torch.utils.data import DataLoader\n",
    "from jcopdl.layers import linear_block\n",
    "from torch import nn\n"
   ]
  },
  {
   "cell_type": "code",
   "execution_count": null,
   "metadata": {},
   "outputs": [],
   "source": [
    "bs = 64\n",
    "\n",
    "data_transform = transforms.Compose([\n",
    "    transforms.Grayscale(),\n",
    "    transforms.ToTensor(),\n",
    "    transforms.Normalize([0.5], [0.5]) # normalize supaya menjadi -1 sampai 1, supaya lebih stabil\n",
    "])\n",
    "\n",
    "train_set = datasets.ImageFolder(\"data/train/\", transform=data_transform)\n",
    "trainloader = DataLoader(train_set, batch_size=bs, shuffle=True, num_workers=8)"
   ]
  },
  {
   "cell_type": "markdown",
   "metadata": {},
   "source": [
    "## Arsitektur dan Config"
   ]
  },
  {
   "cell_type": "code",
   "execution_count": 5,
   "metadata": {},
   "outputs": [
    {
     "data": {
      "text/plain": [
       "'import torch\\nfrom torch import nn\\nfrom jcopdl.layers import linear_block\\n\\nclass Discriminator(nn.Module):\\n    def __init__(self):\\n        super().__init__()\\n        self.fc = nn.Sequential(\\n            nn.Flatten(),\\n            linear_block(784, 512, activation=\"lrelu\"),\\n            linear_block(512, 256, activation=\"lrelu\"),\\n            linear_block(256, 128, activation=\"lrelu\"),\\n            linear_block(128, 1, activation=\\'sigmoid\\')\\n        )\\n    \\n    def forward(self, x):\\n        return self.fc(x)\\n    \\n\\nclass Generator(nn.Module):\\n    def __init__(self, z_dim):\\n        super().__init__()\\n        self.z_dim = z_dim\\n        self.fc = nn.Sequential(\\n            linear_block(z_dim, 128, activation=\"lrelu\"),\\n            linear_block(126, 256, activation=\"lrelu\", batch_norm=True),\\n            linear_block(256, 512, activation=\"lrelu\", batch_norm=True),\\n            linear_block(512, 1024, activation=\"lrelu\", batch_norm=True),\\n            linear_block(1024, 784, activation=\"tanh\")\\n        )\\n    \\n    def forward(self, x):\\n        return self.fc(x)\\n    \\n    def generate(self, n, device):\\n        z = torch.randn((n, self.z_dim), device=device)\\n        return self.fc(z)'"
      ]
     },
     "execution_count": 5,
     "metadata": {},
     "output_type": "execute_result"
    }
   ],
   "source": [
    "\"\"\"import torch\n",
    "from torch import nn\n",
    "from jcopdl.layers import linear_block\n",
    "\n",
    "class Discriminator(nn.Module):\n",
    "    def __init__(self):\n",
    "        super().__init__()\n",
    "        self.fc = nn.Sequential(\n",
    "            nn.Flatten(),\n",
    "            linear_block(784, 512, activation=\"lrelu\"),\n",
    "            linear_block(512, 256, activation=\"lrelu\"),\n",
    "            linear_block(256, 128, activation=\"lrelu\"),\n",
    "            linear_block(128, 1, activation='sigmoid')\n",
    "        )\n",
    "    \n",
    "    def forward(self, x):\n",
    "        return self.fc(x)\n",
    "    \n",
    "\n",
    "class Generator(nn.Module):\n",
    "    def __init__(self, z_dim):\n",
    "        super().__init__()\n",
    "        self.z_dim = z_dim\n",
    "        self.fc = nn.Sequential(\n",
    "            linear_block(z_dim, 128, activation=\"lrelu\"),\n",
    "            linear_block(126, 256, activation=\"lrelu\", batch_norm=True),\n",
    "            linear_block(256, 512, activation=\"lrelu\", batch_norm=True),\n",
    "            linear_block(512, 1024, activation=\"lrelu\", batch_norm=True),\n",
    "            linear_block(1024, 784, activation=\"tanh\")\n",
    "        )\n",
    "    \n",
    "    def forward(self, x):\n",
    "        return self.fc(x)\n",
    "    \n",
    "    def generate(self, n, device):\n",
    "        z = torch.randn((n, self.z_dim), device=device)\n",
    "        return self.fc(z)\"\"\""
   ]
  },
  {
   "cell_type": "code",
   "execution_count": 6,
   "metadata": {},
   "outputs": [],
   "source": [
    "config = set_config({\n",
    "    \"z_dim\" : 100,\n",
    "    \"bs\" :64\n",
    "})"
   ]
  },
  {
   "cell_type": "markdown",
   "metadata": {},
   "source": [
    "## training Preparation"
   ]
  },
  {
   "cell_type": "code",
   "execution_count": 7,
   "metadata": {},
   "outputs": [],
   "source": [
    "from model_gan import Discriminator, Generator"
   ]
  },
  {
   "cell_type": "code",
   "execution_count": 8,
   "metadata": {},
   "outputs": [],
   "source": [
    "D_model = Discriminator().to(device)\n",
    "G_model = Generator(config.z_dim).to(device)\n",
    "\n",
    "criterion = nn.BCELoss()\n",
    "\n",
    "d_optimizer = optim.Adam(D_model.parameters(), lr=0.0002)\n",
    "g_optimizer = optim.Adam(G_model.parameters(), lr=0.0002)"
   ]
  },
  {
   "cell_type": "markdown",
   "metadata": {},
   "source": [
    "# Fase Training"
   ]
  },
  {
   "cell_type": "code",
   "execution_count": 11,
   "metadata": {},
   "outputs": [],
   "source": [
    "import os\n",
    "\n",
    "from torchvision.utils import save_image"
   ]
  },
  {
   "cell_type": "code",
   "execution_count": 10,
   "metadata": {},
   "outputs": [],
   "source": [
    "os.makedirs(\"output/\", exist_ok=True)\n",
    "os.makedirs(\"model/\", exist_ok=True)"
   ]
  },
  {
   "cell_type": "code",
   "execution_count": null,
   "metadata": {},
   "outputs": [],
   "source": [
    "num_epochs = 300\n",
    "\n",
    "for epoch in range(num_epochs):\n",
    "    D_model.train()\n",
    "    G_model.train()\n",
    "    \n",
    "    for real_image, _ in trainloader:\n",
    "        jumlah_data = real_image.shape[0]\n",
    "        \n",
    "        # Handle Real image dan Fake image\n",
    "        real_image = real_image.to(device)\n",
    "        fake_image = G_model.generate(jumlah_data, device=device)\n",
    "        \n",
    "        # Handle Real label dan Fake label\n",
    "        real_label = torch.ones((jumlah_data, 1), device=device)\n",
    "        fake_label = torch.zeros((jumlah_data, 1), device=device)\n",
    "        \n",
    "        # Training Discriminator\n",
    "        d_optimizer.zero_grad()\n",
    "        ## 1. Real image -> Discriminator -> label real\n",
    "        output = D_model(real_image)\n",
    "        d_real_loss = criterion(output, real_label)\n",
    "        \n",
    "        ## 2. Fake image -> Discriminator -> label fake\n",
    "        output = D_model(fake_image.detach())\n",
    "        d_fake_loss = criterion(output, fake_label)\n",
    "        \n",
    "        d_loss = d_real_loss + d_fake_loss\n",
    "        d_loss.backward()\n",
    "        d_optimizer.step()\n",
    "        \n",
    "        # Training Generator\n",
    "        g_optimizer.zero_grad()\n",
    "        \n",
    "        \n",
    "    if epoch % 5 == 0:\n",
    "        print(f\"Epoch: {epoch:5} | D_loss: {d_loss/2:.5f} | G_loss: {g_loss/2:.5f}\")\n",
    "        \n",
    "    if epoch % 20 == 0:\n",
    "        G_model.eval()\n",
    "        epoch = str(epoch).zfill(3)\n",
    "        fake_image = G_model.generate(64, device=device)\n",
    "        save_image(fake_image.view(-1, 1, 28, 28), f\"output/{epoch}.jpg\", nrow=8, normalize=True)\n",
    "        \n",
    "        #save model\n",
    "        torch.save(D_model, \"model/discriminator.pth\")\n",
    "        torch.save(G_model, \"model/generator.pth\")"
   ]
  }
 ],
 "metadata": {
  "kernelspec": {
   "display_name": "Python 3",
   "language": "python",
   "name": "python3"
  },
  "language_info": {
   "codemirror_mode": {
    "name": "ipython",
    "version": 3
   },
   "file_extension": ".py",
   "mimetype": "text/x-python",
   "name": "python",
   "nbconvert_exporter": "python",
   "pygments_lexer": "ipython3",
   "version": "3.7.6"
  }
 },
 "nbformat": 4,
 "nbformat_minor": 4
}
